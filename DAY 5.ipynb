{
 "cells": [
  {
   "cell_type": "markdown",
   "metadata": {},
   "source": [
    "## Exercice 1"
   ]
  },
  {
   "cell_type": "code",
   "execution_count": 11,
   "metadata": {},
   "outputs": [],
   "source": [
    "import pandas as pd\n",
    "import numpy as np\n",
    "import matplotlib.pyplot as plt\n",
    "import seaborn as sb\n",
    "from sklearn.model_selection import cross_val_predict\n",
    "from sklearn import metrics\n",
    "from sklearn.ensemble import RandomForestClassifier,GradientBoostingClassifier\n",
    "from sklearn.model_selection import train_test_split"
   ]
  },
  {
   "cell_type": "code",
   "execution_count": 12,
   "metadata": {},
   "outputs": [],
   "source": [
    "train = pd.read_csv(\"C:\\\\Users\\\\tadav\\\\OneDrive\\\\Bureau\\\\Data&GO\\\\DAY 5 MACHINE LEARNING\\\\fashion-mnist_train.csv\")\n",
    "test = pd.read_csv(\"C:\\\\Users\\\\tadav\\\\OneDrive\\\\Bureau\\\\Data&GO\\\\DAY 5 MACHINE LEARNING\\\\fashion-mnist_test.csv\")"
   ]
  },
  {
   "cell_type": "code",
   "execution_count": 13,
   "metadata": {},
   "outputs": [],
   "source": [
    "# train.head()"
   ]
  },
  {
   "cell_type": "code",
   "execution_count": 14,
   "metadata": {},
   "outputs": [],
   "source": [
    "# test.head()"
   ]
  },
  {
   "cell_type": "code",
   "execution_count": 15,
   "metadata": {},
   "outputs": [],
   "source": [
    "from sklearn.model_selection import train_test_split\n",
    "X_train, y_train, X_test, y_test = train.iloc[:,1:], train['label'], test.iloc[:,1:], test['label']\n",
    "# X_train.head()"
   ]
  },
  {
   "cell_type": "code",
   "execution_count": 16,
   "metadata": {},
   "outputs": [
    {
     "data": {
      "text/plain": [
       "((60000, 784), (10000, 784))"
      ]
     },
     "execution_count": 16,
     "metadata": {},
     "output_type": "execute_result"
    }
   ],
   "source": [
    "X_train.shape, X_test.shape"
   ]
  },
  {
   "cell_type": "code",
   "execution_count": null,
   "metadata": {},
   "outputs": [],
   "source": [
    "from sklearn.tree import DecisionTreeClassifier\n",
    "from sklearn.neighbors import KNeighborsClassifier\n",
    "from sklearn.svm import SVC\n",
    "from sklearn.ensemble import VotingClassifier\n",
    "from sklearn.model_selection import cross_val_score\n",
    "\n",
    "clf1 = DecisionTreeClassifier(max_depth=4)\n",
    "clf2 = KNeighborsClassifier(n_neighbors=7)\n",
    "clf3 = SVC(kernel='rbf', probability=True)\n",
    "eclf = VotingClassifier(estimators=[('dt', clf1), ('knn', clf2), ('svc', clf3)],\n",
    "                        voting='hard')\n",
    "\n",
    "clf1 = clf1.fit(X_train,y_train)\n",
    "clf2 = clf2.fit(X_train,y_train)\n",
    "clf3 = clf3.fit(X_train,y_train)\n",
    "eclf = eclf.fit(X_train,y_train)\n",
    "\n",
    "\n",
    "for clf, label in zip([clf1, clf2, clf3, eclf], ['Decision Tree Classifier', 'KNN', 'SVC', 'Ensemble']):\n",
    "    scores = cross_val_score(clf, X_test, y_test, scoring='accuracy', cv=5)\n",
    "    print(\"Accuracy: %0.2f (+/- %0.2f) [%s]\" % (scores.mean(), scores.std(), label))"
   ]
  },
  {
   "cell_type": "markdown",
   "metadata": {},
   "source": [
    "## Exercice 2 (random forest classfier model)"
   ]
  },
  {
   "cell_type": "code",
   "execution_count": 7,
   "metadata": {},
   "outputs": [
    {
     "name": "stdout",
     "output_type": "stream",
     "text": [
      "Training score: 1.000\n",
      "Test score : 0.875\n"
     ]
    }
   ],
   "source": [
    "from sklearn.model_selection import GridSearchCV\n",
    "from sklearn.metrics import accuracy_score\n",
    "\n",
    "rf = RandomForestClassifier(n_estimators = 100,max_features = 5)\n",
    "\n",
    "rf.fit(X_train,y_train)\n",
    "\n",
    "# y_pred = rf.predict(X_test) \n",
    "\n",
    "print('Training score: {:.3f}'.format(rf.score(X_train,y_train)))\n",
    "print('Test score : {:.3f}'.format(rf.score(X_test,y_test)))\n",
    "\n",
    "# score = accuracy_score(y_test.values, y_pred)\n",
    "# print(\"Accucaracy score % d\" % score)"
   ]
  },
  {
   "cell_type": "code",
   "execution_count": 8,
   "metadata": {},
   "outputs": [
    {
     "name": "stdout",
     "output_type": "stream",
     "text": [
      "0.87955 {'max_features': 20, 'n_estimators': 100}\n"
     ]
    }
   ],
   "source": [
    "# EXERCICE 4\n",
    "\n",
    "from sklearn.model_selection import GridSearchCV\n",
    "from sklearn.metrics import accuracy_score\n",
    "\n",
    "rf = RandomForestClassifier()\n",
    "\n",
    "param_values = {'n_estimators' : [10,50,100], 'max_features' : [5,10,20]}\n",
    "gs = GridSearchCV(rf,param_grid = param_values, cv = 5,scoring = 'accuracy')\n",
    "\n",
    "gs.fit(X_train,y_train)\n",
    "\n",
    "print(gs.best_score_,gs.best_params_)"
   ]
  },
  {
   "cell_type": "code",
   "execution_count": 31,
   "metadata": {},
   "outputs": [],
   "source": [
    "# Conclusion : pour le Random Forest CLassifier, la meilleure setup est 20 features et 100 arbres"
   ]
  },
  {
   "cell_type": "markdown",
   "metadata": {},
   "source": [
    "## Exercice 3"
   ]
  },
  {
   "cell_type": "code",
   "execution_count": 33,
   "metadata": {},
   "outputs": [
    {
     "name": "stdout",
     "output_type": "stream",
     "text": [
      "Training score: 0.869\n",
      "Test score: 0.855\n"
     ]
    }
   ],
   "source": [
    "gb = GradientBoostingClassifier(n_estimators = 100,max_features = 5,learning_rate = 0.1)\n",
    "\n",
    "gb.fit(X_train,y_train)\n",
    "print('Training score: {:.3f}'.format(gb.score(X_train,y_train)))\n",
    "print('Test score: {:.3f}'.format(gb.score(X_test,y_test)))"
   ]
  },
  {
   "cell_type": "code",
   "execution_count": 10,
   "metadata": {},
   "outputs": [
    {
     "name": "stdout",
     "output_type": "stream",
     "text": [
      "0.8699 {'learning_rate': 0.5, 'max_features': 10, 'n_estimators': 100}\n"
     ]
    }
   ],
   "source": [
    "from sklearn.ensemble import RandomForestClassifier,GradientBoostingClassifier\n",
    "from sklearn.model_selection import GridSearchCV\n",
    "from sklearn.metrics import accuracy_score\n",
    "\n",
    "# EXERCICE 4\n",
    "# 'learning_rate' : [1, 0.5, 0.25, 0.1, 0.05, 0.01]\n",
    "\n",
    "gb = GradientBoostingClassifier()\n",
    "\n",
    "param_values = {'n_estimators' : [10,50,100], 'max_features' : [5,10,20], 'learning_rate' : [1, 0.5, 0.1, 0.01]}\n",
    "gs = GridSearchCV(gb,param_grid = param_values, cv = 5,scoring = 'accuracy')\n",
    "\n",
    "gs.fit(X_train,y_train)\n",
    "\n",
    "print(gs.best_score_,gs.best_params_)"
   ]
  },
  {
   "cell_type": "code",
   "execution_count": null,
   "metadata": {},
   "outputs": [],
   "source": []
  }
 ],
 "metadata": {
  "kernelspec": {
   "display_name": "Python 3",
   "language": "python",
   "name": "python3"
  },
  "language_info": {
   "codemirror_mode": {
    "name": "ipython",
    "version": 3
   },
   "file_extension": ".py",
   "mimetype": "text/x-python",
   "name": "python",
   "nbconvert_exporter": "python",
   "pygments_lexer": "ipython3",
   "version": "3.9.0"
  }
 },
 "nbformat": 4,
 "nbformat_minor": 4
}
